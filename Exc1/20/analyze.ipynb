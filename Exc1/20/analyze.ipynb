{
 "cells": [
  {
   "cell_type": "code",
   "execution_count": 6,
   "metadata": {},
   "outputs": [],
   "source": [
    "import numpy as np\n",
    "onlyO = True"
   ]
  },
  {
   "cell_type": "markdown",
   "metadata": {},
   "source": [
    "Extract the Data from file \"HISTORY\""
   ]
  },
  {
   "cell_type": "code",
   "execution_count": 7,
   "metadata": {},
   "outputs": [
    {
     "name": "stdout",
     "output_type": "stream",
     "text": [
      "[-4.5088 10.509  10.181 ]\n"
     ]
    }
   ],
   "source": [
    "file = open(\"HISTORY\", \"r\"); file.readline() # skip name line\n",
    "line = file.readline() # read second line, contain the number of atoms\n",
    "a,b,c = [float(comp) for comp in line.split() if comp.replace('.', '', 1).isdigit()] #a: trejectory, b: boundary, c: number of atoms\n",
    "# read and convert the components to float\n",
    "#print(stepc[1])\n",
    "L = np.zeros((3))\n",
    "if onlyO:\n",
    "    dat = np.zeros((int((c + 1)/3),int(a + 1),3)) #[number of atoms, number of (r,v,a), 3]\n",
    "dats = []\n",
    "while True:\n",
    "    line = file.readline()\n",
    "    #print(line)\n",
    "    if not line:\n",
    "        break\n",
    "    stepc = [float(comp) for comp in line.split() if comp.replace('.', '', 1).isdigit()]\n",
    "    \n",
    "    L[0] = (file.readline().split()[0])\n",
    "    L[1] = (file.readline().split()[1])\n",
    "    L[2] = (file.readline().split()[2])\n",
    "    #print(L)\n",
    "    ni = -1\n",
    "    for n in range(int(stepc[1])):\n",
    "        line = file.readline().strip()  # Strip leading/trailing whitespace\n",
    "        if line.startswith(\"OW\"):\n",
    "            ni += 1\n",
    "            for i in range(int(a)+1):\n",
    "                line = file.readline().strip()\n",
    "                dat[ni,i,:] = np.fromstring(line, sep=' ')\n",
    "        else:\n",
    "            for i in range(int(a)+1):\n",
    "                file.readline()\n",
    "    #print(dat[0,0,:])\n",
    "    dats.append(dat.copy())\n",
    "print(dats[-1][0,0,:]) #dats[step][atom][r,v,a][x,y,z]\n"
   ]
  },
  {
   "cell_type": "markdown",
   "metadata": {},
   "source": [
    "Data stored in dats in the format [time step][index of atom][r,v,a depend on the traj][x,y,z components].\n",
    "Calculating the distant between two atoms by using the outer substract:\n",
    "\\begin{align}\n",
    "x_{12} &= x_{1} - x_{2}\\\\\n",
    "y_{12} &= y_{1} - y_{2}\\\\\n",
    "z_{12} &= z_{1} - z_{2}\\\\\n",
    "r_{12}^2 &= x_{12}^2 + y_{12}^2 + z_{12}^2\n",
    "\\end{align}"
   ]
  },
  {
   "cell_type": "code",
   "execution_count": 8,
   "metadata": {},
   "outputs": [
    {
     "name": "stdout",
     "output_type": "stream",
     "text": [
      "[[0.         3.65245497 2.65590935 2.92522201 4.05351808 3.41948   ]\n",
      " [3.65245497 0.         4.13451167 4.88464276 2.64050315 2.74570853]\n",
      " [2.65590935 4.13451167 0.         4.88018109 2.66955235 5.05530915]\n",
      " [2.92522201 4.88464276 4.88018109 0.         5.88428002 2.77292177]\n",
      " [4.05351808 2.64050315 2.66955235 5.88428002 0.         4.70170246]\n",
      " [3.41948    2.74570853 5.05530915 2.77292177 4.70170246 0.        ]]\n"
     ]
    }
   ],
   "source": [
    "r12 = np.zeros((len(dats), len(dats[0][:,0,:]), len(dats[0][:,0,:])))\n",
    "for t in range(len(dats)):\n",
    "    coords = dats[t][:,0,:]\n",
    "    #x12 = np.zeros((len(coords), len(coords)))\n",
    "    #y12 = np.zeros((len(coords), len(coords)))\n",
    "    #z12 = np.zeros((len(coords), len(coords)))\n",
    "    #\n",
    "    #for i in range(len(coords)):\n",
    "    #    for j in range(len(coords)):\n",
    "    #        x12[i, j] = coords[i, 0] - coords[j, 0]\n",
    "    #        y12[i, j] = coords[i, 1] - coords[j, 1]\n",
    "    #        z12[i, j] = coords[i, 2] - coords[j, 2]\n",
    "    #\n",
    "    x12 = np.subtract.outer(coords[:,0], coords[:,0])\n",
    "    y12 = np.subtract.outer(coords[:,1], coords[:,1])\n",
    "    z12 = np.subtract.outer(coords[:,2], coords[:,2])\n",
    "    \n",
    "    # Minimum image convention\n",
    "    x12[x12 > L[0]/2.] -= L[0]; x12[x12 < -L[0]/2.] += L[0]\n",
    "    y12[y12 > L[1]/2.] -= L[1]; y12[y12 < -L[1]/2.] += L[1]\n",
    "    z12[z12 > L[2]/2.] -= L[2]; z12[z12 < -L[2]/2.] += L[2]\n",
    "    r12[t] = np.sqrt(x12**2 + y12**2 + z12**2)\n",
    "    \n",
    "print(r12[-1,:,:])"
   ]
  },
  {
   "cell_type": "code",
   "execution_count": 19,
   "metadata": {},
   "outputs": [
    {
     "data": {
      "text/plain": [
       "Text(0.5, 1.0, 'Density Histogram of Atomic Distances')"
      ]
     },
     "execution_count": 19,
     "metadata": {},
     "output_type": "execute_result"
    },
    {
     "data": {
      "image/png": "[encoded data removed]",
      "text/plain": [
       "<Figure size 640x480 with 1 Axes>"
      ]
     },
     "metadata": {},
     "output_type": "display_data"
    }
   ],
   "source": [
    "import matplotlib.pyplot as plt\n",
    "r12off =[]\n",
    "for i in range(len(r12)):\n",
    "    r12off.append(r12[i][np.triu_indices(int(len(r12[0][0,:])), k = 1)]) #take the upper triangle of the matrix\n",
    "#not count the diagonal, and the lower triangle\n",
    "plt.hist(np.concatenate(r12off), bins=50, density=True, color='blue')\n",
    "plt.xlabel('Distance (Å)')\n",
    "plt.ylabel('Density')\n",
    "plt.title('Density Histogram of Atomic Distances')"
   ]
  }
 ],
 "metadata": {
  "kernelspec": {
   "display_name": "usr",
   "language": "python",
   "name": "python3"
  },
  "language_info": {
   "codemirror_mode": {
    "name": "ipython",
    "version": 3
   },
   "file_extension": ".py",
   "mimetype": "text/x-python",
   "name": "python",
   "nbconvert_exporter": "python",
   "pygments_lexer": "ipython3",
   "version": "3.12.3"
  }
 },
 "nbformat": 4,
 "nbformat_minor": 2
}
